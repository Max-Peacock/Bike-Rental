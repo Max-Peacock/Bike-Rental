{
 "cells": [
  {
   "cell_type": "markdown",
   "id": "7fc46286-e6c3-48ec-bcaf-72065f8d48f5",
   "metadata": {},
   "source": [
    "# Bike Rental Analyses\n",
    "## Introduction:\n",
    "In a separate notebook i have prepared, cleansed and exported the data into a pgAdmin4 database. This document will show the code used to create the database. Afterward, i will showcase some of the SQL views used including screenshots of output and some data findings.\n",
    "\n",
    "### Code to create the database, including key relationships:\n"
   ]
  },
  {
   "cell_type": "markdown",
   "id": "b16ae8bd-c7ec-4448-99a6-b8f232b06120",
   "metadata": {},
   "source": [
    "\n",
    "```sql\r\n",
    "CREATE TABLE bikes (\r\n",
    "    Bike_ID bigint NOT NULL DEFAULT nextval('\"bikes_Bike_ID_seq\"'::regclass),\r\n",
    "    PRIMARY KEY (Bike_ID)\r\n",
    ");\r\n",
    "\r\n",
    "CREATE TABLE stations (\r\n",
    "    Station_ID bigint NOT NULL,\r\n",
    "    Name text,\r\n",
    "    Latitude double precision,\r\n",
    "    Longitude double precision,\r\n",
    "    PRIMARY KEY (Station_ID)\r\n",
    ");\r\n",
    "\r\n",
    "CREATE TABLE weather_stations (\r\n",
    "    Weather_Station_ID text NOT NULL,\r\n",
    "    Name text,\r\n",
    "    PRIMARY KEY (Weather_Station_ID)\r\n",
    ");\r\n",
    "\r\n",
    "CREATE TABLE weather_data (\r\n",
    "    Weather_Data_ID bigint NOT NULL DEFAULT nextval('\"weather_data_Weather_Data_ID_seq\"'::regclass),\r\n",
    "    Weather_Station_ID text,\r\n",
    "    Date timestamp without time zone,\r\n",
    "    Precipitation_Inch double precision,\r\n",
    "    Average_Wind_MPH double precision,\r\n",
    "    Max_Temp_C double precision,\r\n",
    "    Min_Temp_C double precision,\r\n",
    "    Average_Temp_C double precision,\r\n",
    "    Snowfall_Inch double precision,\r\n",
    "    FOREIGN KEY (Weather_Station_ID) REFERENCES weather_stations(Weather_Station_ID)\r\n",
    ");\r\n",
    "\r\n",
    "CREATE TABLE users (\r\n",
    "    User_ID bigint NOT NULL DEFAULT nextval('\"users_User_ID_seq\"'::regclass),\r\n",
    "    Bike_ID bigint,\r\n",
    "    User_Type text,\r\n",
    "    Birth_Year double precision,\r\n",
    "    Gender bigint,\r\n",
    "    PRIMARY KEY (User_ID),\r\n",
    "    FOREIGN KEY (Bike_ID) REFERENCES bikes(Bike_ID)\r\n",
    ");\r\n",
    "\r\n",
    "CREATE TABLE trips (\r\n",
    "    Trip_ID integer NOT NULL DEFAULT nextval('\"trips_Trip_ID_seq\"'::regclass),\r\n",
    "    Bike_ID bigint,\r\n",
    "    Start_Station_ID bigint,\r\n",
    "    End_Station_ID bigint,\r\n",
    "    Start_Time timestamp without time zone,\r\n",
    "    Stop_Time timestamp without time zone,\r\n",
    "    Trip_Duration_Secs bigint,\r\n",
    "    User_Type text,\r\n",
    "    Birth_Year double precision,\r\n",
    "    Gender bigint,\r\n",
    "    FOREIGN KEY (Bike_ID) REFERENCES bikes(Bike_ID),\r\n",
    "    FOREIGN KEY (Start_Station_ID) REFERENCES stations(Station_ID),\r\n",
    "    FOREIGN KEY (End_Station_ID) REFERENCES stations(Station_ID)\r\n",
    ");"
   ]
  },
  {
   "cell_type": "markdown",
   "id": "358c8899-10fd-46b0-af4f-924b51642850",
   "metadata": {},
   "source": [
    "## Below, we will showcase some views, outputs of these and findings."
   ]
  },
  {
   "cell_type": "markdown",
   "id": "310967a5-3a5b-4432-af63-e05625836f3b",
   "metadata": {},
   "source": [
    "SELECT \r\n",
    "    EXTRACT(MONTH FROM \"Start_Time\") as Month,\r\n",
    "    COUNT(\"Trip_ID\") as Trip_Count\r\n",
    "FROM \r\n",
    "    trips\r\n",
    "GROUP BY \r\n",
    "    EXTRACT(MONTH FROM \"Start_Time\")\r\n",
    "ORDER BY \r\n",
    "    Month;"
   ]
  },
  {
   "cell_type": "markdown",
   "id": "f60c8dde-3340-4719-99e6-96fbcac909b6",
   "metadata": {},
   "source": [
    "![Busiest Months](https://github.com/Max-Peacock/Bike-Rental/blob/main/image/Busiest%20Months.jpg?raw=true)\r\n",
    "\n"
   ]
  },
  {
   "cell_type": "markdown",
   "id": "36b570a0-e0f1-47cd-a043-ad63bf548fb1",
   "metadata": {},
   "source": [
    "### This image shows the busiest months in the year, we can now inspect as to why these months are busier, perhaps there are some correlations we can look into"
   ]
  },
  {
   "cell_type": "markdown",
   "id": "2632388d-64a5-42ed-8098-19fb435ced71",
   "metadata": {},
   "source": [
    "### The Below query will Extract the Month From Date, and change the ouput to the Months name, it will then group the months by the average rainful, and the average trip duration. This will give us information on how rainfall can affect a trips duration.\n",
    "### Note: This is my first time using '::numeric', i had to find a way to convert the Datatype to ensure it can be in a more readable format (2 decimal places)\n",
    "```sql\n",
    "SELECT \r\n",
    "    CASE \r\n",
    "        WHEN EXTRACT(MONTH FROM \"Date\") = 1 THEN 'January'\r\n",
    "        WHEN EXTRACT(MONTH FROM \"Date\") = 2 THEN 'February'\r\n",
    "        WHEN EXTRACT(MONTH FROM \"Date\") = 3 THEN 'March'\r\n",
    "        WHEN EXTRACT(MONTH FROM \"Date\") = 4 THEN 'April'\r\n",
    "        WHEN EXTRACT(MONTH FROM \"Date\") = 5 THEN 'May'\r\n",
    "        WHEN EXTRACT(MONTH FROM \"Date\") = 6 THEN 'June'\r\n",
    "        WHEN EXTRACT(MONTH FROM \"Date\") = 7 THEN 'July'\r\n",
    "        WHEN EXTRACT(MONTH FROM \"Date\") = 8 THEN 'August'\r\n",
    "        WHEN EXTRACT(MONTH FROM \"Date\") = 9 THEN 'September'\r\n",
    "        WHEN EXTRACT(MONTH FROM \"Date\") = 10 THEN 'October'\r\n",
    "        WHEN EXTRACT(MONTH FROM \"Date\") = 11 THEN 'November'\r\n",
    "        ELSE 'December'\r\n",
    "    END as Month,\r\n",
    "    ROUND(AVG(\"Precipitation_Inch\")::numeric, 2) as Avg_Rainfall,\r\n",
    "    ROUND(AVG(\"Trip_Duration_Secs\"), 2) as Avg_Trip_Duration\r\n",
    "FROM \r\n",
    "    weather_data \r\n",
    "JOIN \r\n",
    "    trips ON EXTRACT(MONTH FROM \"Date\") = EXTRACT(MONTH FROM \"Start_Time\")\r\n",
    "GROUP BY \r\n",
    "    EXTRACT(MONTH FROM \"Date\")\r\n",
    "ORDER BY\r\n",
    "\tAvg_Rainfall DESC;\r\n",
    "Avg_Rainfall DESC;"
   ]
  },
  {
   "cell_type": "markdown",
   "id": "fcb689d0-4136-432a-89a8-10423b6cd1b8",
   "metadata": {},
   "source": [
    "<img src=\"C:/Users/maxpe/Jupyter Notebooks/Bike Rental/Avg Rain Trip Dur.jpg\" alt=\"Avg Rain Trip Dur\">"
   ]
  },
  {
   "cell_type": "markdown",
   "id": "7fc407d1-de10-4ab7-816a-2a2057fd2c6e",
   "metadata": {},
   "source": [
    "### Now we have the average rainfull for each month alongside the average trip duration\n",
    "### As predicted, we can see below that busier months with longer trip durations are generally the drier months, with July being an outlier, lets inspect the weather and trip data in July and see the correlation between rainfall and trips.\n",
    "### Note: we use '::date' after the Start_Time and Date on the JOIN, this will convert the current timestamp into a useable date format.\n",
    "``` sql\n",
    "SELECT \r\n",
    "    EXTRACT(DAY FROM wd.\"Date\") as Day,\r\n",
    "    ROUND(AVG(wd.\"Precipitation_Inch\")::numeric, 2) as Avg_Rainfall,\r\n",
    "    COUNT(t.\"Trip_ID\") as No_Trips\r\n",
    "FROM trips t\r\n",
    "JOIN weather_data wd ON t.\"Start_Time\"::date = wd.\"Date\"::date\r\n",
    "WHERE EXTRACT(MONTH FROM wd.\"Date\") = 7\r\n",
    "GROUP BY Day\r\n",
    "ORDER BY No_Trips DESC;NTH FROM wd.\"Date\");"
   ]
  },
  {
   "cell_type": "markdown",
   "id": "bab8f06f-ec9e-4b32-a320-17debeaee07b",
   "metadata": {},
   "source": [
    "<img src=\"C:/Users/maxpe/Jupyter Notebooks/Bike Rental/July Trips.jpg\" alt=\"July Trips\">"
   ]
  },
  {
   "cell_type": "markdown",
   "id": "dad7ad4d-e40e-4995-b26b-f66cac1bb6ea",
   "metadata": {},
   "source": [
    "### We can see by looking at this query that although July had alot of rainfall and it was also busy, the busiest days of the month were also the days where no / low rainfall occured."
   ]
  },
  {
   "cell_type": "raw",
   "id": "c47d892f-f65f-422f-bf15-481d90ad4db8",
   "metadata": {},
   "source": [
    "### Lets look at some user data, lets find out which birth years occur the most, allowing us to know our best target audience."
   ]
  },
  {
   "cell_type": "markdown",
   "id": "f8ebc93e-8a56-4ca6-97fc-977c3c896bdc",
   "metadata": {},
   "source": [
    "```sql\n",
    "SELECT \"Birth_Year\", COUNT(*) as Birth_Year_Count\r\n",
    "FROM users \r\n",
    "GROUP BY \"Birth_Year\"\r\n",
    "ORDER BY Birth_Year_Count DESC\r\n",
    "LIMIT 20;"
   ]
  },
  {
   "cell_type": "markdown",
   "id": "e3c550af-6faf-4d3a-b889-ab1988ad96f5",
   "metadata": {},
   "source": [
    "<img src=\"C:/Users/maxpe/Jupyter Notebooks/Bike Rental/Birth Year.jpg\" alt=\"Birth Year\">"
   ]
  },
  {
   "cell_type": "markdown",
   "id": "9bbea7c1-b480-4511-885d-07771d903625",
   "metadata": {},
   "source": [
    "### We know from cleaning the data in pandas that the User_Type of 'Customer' does not have a corresponding Date of Birth and a Gender of 0 (unknown). However, we have Gender data from the User_Type 'Subscriber', we will run a query to see our Subscribers by Gender\n",
    "\n",
    "``` sql\n",
    "SELECT users.\"Gender\", COUNT(*) as \"User_Count\"\r\n",
    "FROM users\r\n",
    "WHERE \"User_Type\" = 'Subscriber'\r\n",
    "GROUP BY users.\"Gender\"\r\n",
    "ORDER BY \"User_Count\" DESC;"
   ]
  },
  {
   "cell_type": "markdown",
   "id": "9f1cb933-11ee-44c3-8f94-93e451e348c5",
   "metadata": {},
   "source": [
    "<img src=\"C:/Users/maxpe/Jupyter Notebooks/Bike Rental/Subscriber by Gender.jpg\" alt=\"Subscriber by Gender\">"
   ]
  },
  {
   "cell_type": "markdown",
   "id": "1b3ffbea-56d1-436c-ad2f-0eb488650878",
   "metadata": {},
   "source": [
    "### We can see the Gender of '1' has the most subscribers, this can now be used to help devise our target audience.\n",
    "#### (we would need to check Data entry and see which Gender corresponds to '1' and '2', '0' is 'Unknown', we can also report that the User_Type of 'Customer' has no Birth Year)"
   ]
  },
  {
   "cell_type": "markdown",
   "id": "867eafec-bd34-4a6a-9e9e-3da94f309c0c",
   "metadata": {},
   "source": [
    "### We will now check and see which Gender makes the longest trips on average."
   ]
  },
  {
   "cell_type": "markdown",
   "id": "012b66bb-1817-4ec8-beac-f3eaffe045da",
   "metadata": {},
   "source": [
    "```sql\n",
    "SELECT\r\n",
    "    users.\"Gender\",\r\n",
    "    AVG(trips.\"Trip_Duration_Secs\"):: numeric (10,2) AS \"AvgTripDuration\"\r\n",
    "FROM\r\n",
    "    trips \r\n",
    "JOIN\r\n",
    "    users ON trips.\"Bike_ID\" = users.\"Bike_ID\"\r\n",
    "WHERE\r\n",
    "    users.\"User_Type\" = 'Subscriber'\r\n",
    "GROUP BY\r\n",
    "    users.\"Gender\";.\"Gender\";"
   ]
  },
  {
   "cell_type": "markdown",
   "id": "3be804ca-f301-4e90-8dab-fda948086089",
   "metadata": {},
   "source": [
    "<img src=\"C:/Users/maxpe/Jupyter Notebooks/Bike Rental/Trip Duration Gender.jpg\" alt=\"Trip Duration Gender\">"
   ]
  },
  {
   "cell_type": "markdown",
   "id": "88bc18b1-bd05-4c18-91e5-9cad2049b885",
   "metadata": {},
   "source": [
    "### As we can see, Gender 2 make the longest trip in general, but it is such a small difference, we can safely say that the average trip duration is not decided by gender!"
   ]
  }
 ],
 "metadata": {
  "kernelspec": {
   "display_name": "Python 3 (ipykernel)",
   "language": "python",
   "name": "python3"
  },
  "language_info": {
   "codemirror_mode": {
    "name": "ipython",
    "version": 3
   },
   "file_extension": ".py",
   "mimetype": "text/x-python",
   "name": "python",
   "nbconvert_exporter": "python",
   "pygments_lexer": "ipython3",
   "version": "3.11.7"
  }
 },
 "nbformat": 4,
 "nbformat_minor": 5
}
